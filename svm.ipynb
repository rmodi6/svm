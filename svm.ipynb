{
 "cells": [
  {
   "cell_type": "code",
   "execution_count": 483,
   "metadata": {},
   "outputs": [],
   "source": [
    "import numpy as np\n",
    "import matplotlib.pyplot as plt\n",
    "from sklearn.datasets import make_blobs"
   ]
  },
  {
   "cell_type": "code",
   "execution_count": 484,
   "metadata": {},
   "outputs": [],
   "source": [
    "X0, y = make_blobs(n_samples=100, n_features=2, centers=2, cluster_std=1.05, random_state=10)\n",
    "X1 = np.c_[np.ones((X0.shape[0])), X0]  # add one to the X values to incorporate bias"
   ]
  },
  {
   "cell_type": "code",
   "execution_count": 485,
   "metadata": {},
   "outputs": [
    {
     "data": {
      "text/plain": [
       "(100, 2)"
      ]
     },
     "execution_count": 485,
     "metadata": {},
     "output_type": "execute_result"
    }
   ],
   "source": [
    "X0.shape"
   ]
  },
  {
   "cell_type": "code",
   "execution_count": 486,
   "metadata": {},
   "outputs": [
    {
     "data": {
      "text/plain": [
       "(100,)"
      ]
     },
     "execution_count": 486,
     "metadata": {},
     "output_type": "execute_result"
    }
   ],
   "source": [
    "y.shape"
   ]
  },
  {
   "cell_type": "code",
   "execution_count": 487,
   "metadata": {},
   "outputs": [],
   "source": [
    "y = np.where(y == 1, 1, -1)"
   ]
  },
  {
   "cell_type": "code",
   "execution_count": 488,
   "metadata": {},
   "outputs": [
    {
     "data": {
      "text/plain": [
       "<matplotlib.collections.PathCollection at 0x7faec0ba08d0>"
      ]
     },
     "execution_count": 488,
     "metadata": {},
     "output_type": "execute_result"
    },
    {
     "data": {
      "image/png": "[encoded data removed]",
      "text/plain": [
       "<Figure size 432x288 with 1 Axes>"
      ]
     },
     "metadata": {
      "needs_background": "light"
     },
     "output_type": "display_data"
    }
   ],
   "source": [
    "plt.scatter(X0[:,0], X0[:,1], s=30, c=y, cmap=plt.cm.Paired)"
   ]
  },
  {
   "cell_type": "code",
   "execution_count": 489,
   "metadata": {},
   "outputs": [],
   "source": [
    "positive_x =[]\n",
    "negative_x =[]\n",
    "for i, label in enumerate(y):\n",
    "    if label == 0:\n",
    "        negative_x.append(X1[i])\n",
    "    else:\n",
    "        positive_x.append(X1[i])\n",
    "data_dict = {-1:np.array(negative_x), 1:np.array(positive_x)}"
   ]
  },
  {
   "cell_type": "code",
   "execution_count": 490,
   "metadata": {},
   "outputs": [],
   "source": [
    "max_fval = np.max(X1)"
   ]
  },
  {
   "cell_type": "code",
   "execution_count": 491,
   "metadata": {},
   "outputs": [
    {
     "data": {
      "text/plain": [
       "7.940851713463681"
      ]
     },
     "execution_count": 491,
     "metadata": {},
     "output_type": "execute_result"
    }
   ],
   "source": [
    "max_fval"
   ]
  },
  {
   "cell_type": "code",
   "execution_count": 492,
   "metadata": {},
   "outputs": [],
   "source": [
    "X = X1\n",
    "\n",
    "X_train, X_test, y_train, y_test = X[:80], X[-20:], y[:80], y[-20:]"
   ]
  },
  {
   "cell_type": "code",
   "execution_count": null,
   "metadata": {},
   "outputs": [],
   "source": [
    "m = X_train.shape[0]\n",
    "w = np.zeros(X_train.shape[1])\n",
    "\n",
    "loss = np.maximum(0, 1 - y_train * np.dot(X_train, w))\n",
    "hinge_loss = np.sum(loss) / m\n",
    "\n",
    "cost = lambd / 2 * np.dot(w, w) + hinge_loss"
   ]
  },
  {
   "cell_type": "code",
   "execution_count": 784,
   "metadata": {},
   "outputs": [],
   "source": [
    "max_epochs = 500000\n",
    "C = 1000\n",
    "# eta = 0.000001\n",
    "eta = 0.000001\n",
    "w = np.zeros(X_train.shape[1])\n",
    "\n",
    "for epoch in range(max_epochs):\n",
    "    index = np.random.choice(X_train.shape[0])\n",
    "    X_i, y_i = X_train[index], y_train[index]\n",
    "\n",
    "    l = 1 - (y_i * np.dot(X_i, w))\n",
    "\n",
    "    if l <= 0:\n",
    "        dw = w\n",
    "    else:\n",
    "        dw = w - (C * y_i * X_i)\n",
    "\n",
    "    w = w - eta * dw\n",
    "#     if eta > 0.000001:\n",
    "#         eta = eta / 10"
   ]
  },
  {
   "cell_type": "code",
   "execution_count": 785,
   "metadata": {},
   "outputs": [
    {
     "data": {
      "text/plain": [
       "array([0.04953485, 0.12763621, 0.26143508])"
      ]
     },
     "execution_count": 785,
     "metadata": {},
     "output_type": "execute_result"
    }
   ],
   "source": [
    "w"
   ]
  },
  {
   "cell_type": "code",
   "execution_count": 608,
   "metadata": {},
   "outputs": [
    {
     "data": {
      "text/plain": [
       "7.940851713463681e-07"
      ]
     },
     "execution_count": 608,
     "metadata": {},
     "output_type": "execute_result"
    }
   ],
   "source": [
    "eta"
   ]
  },
  {
   "cell_type": "code",
   "execution_count": 576,
   "metadata": {},
   "outputs": [
    {
     "data": {
      "text/plain": [
       "array([0.05220855, 0.12735167, 0.26778337])"
      ]
     },
     "execution_count": 576,
     "metadata": {},
     "output_type": "execute_result"
    }
   ],
   "source": [
    "w"
   ]
  },
  {
   "cell_type": "code",
   "execution_count": 770,
   "metadata": {},
   "outputs": [
    {
     "name": "stderr",
     "output_type": "stream",
     "text": [
      "/home/rmodi/anaconda3/lib/python3.7/site-packages/ipykernel_launcher.py:8: RuntimeWarning: overflow encountered in true_divide\n",
      "  \n",
      "/home/rmodi/anaconda3/lib/python3.7/site-packages/ipykernel_launcher.py:8: RuntimeWarning: divide by zero encountered in true_divide\n",
      "  \n"
     ]
    }
   ],
   "source": [
    "max_epochs = 10000\n",
    "lambd = 0.0001\n",
    "eta = max_fval\n",
    "theta = [np.zeros(X_train.shape[1])]\n",
    "w = []\n",
    "\n",
    "for epoch in range(max_epochs):\n",
    "    w.append(np.divide(theta[-1], lambd * (epoch+1)))\n",
    "    index = np.random.choice(X_train.shape[0])\n",
    "    X_i, y_i = X_train[index], y_train[index]\n",
    "\n",
    "    if (y_i * np.dot(X_i, w[-1])) < 1:\n",
    "        theta.append(theta[-1] + eta*(y_i * X_i))\n",
    "    else:\n",
    "        theta.append(theta[-1])\n",
    "\n",
    "    eta /= 10"
   ]
  },
  {
   "cell_type": "code",
   "execution_count": 771,
   "metadata": {},
   "outputs": [],
   "source": [
    "w = w[-1]"
   ]
  },
  {
   "cell_type": "code",
   "execution_count": 772,
   "metadata": {},
   "outputs": [
    {
     "data": {
      "text/plain": [
       "array([-inf, -inf,  inf])"
      ]
     },
     "execution_count": 772,
     "metadata": {},
     "output_type": "execute_result"
    }
   ],
   "source": [
    "w"
   ]
  },
  {
   "cell_type": "code",
   "execution_count": 480,
   "metadata": {},
   "outputs": [],
   "source": [
    "slope = -(w[2]/w[1])/(w[2]/w[0])  \n",
    "intercept = -w[2]/w[1]"
   ]
  },
  {
   "cell_type": "code",
   "execution_count": 775,
   "metadata": {},
   "outputs": [],
   "source": [
    "slope = -(w[0]/w[2])/(w[0]/w[1])  \n",
    "intercept = -w[0]/w[2]"
   ]
  },
  {
   "cell_type": "code",
   "execution_count": 776,
   "metadata": {},
   "outputs": [
    {
     "data": {
      "image/png": "[encoded data removed]",
      "text/plain": [
       "<Figure size 432x288 with 1 Axes>"
      ]
     },
     "metadata": {
      "needs_background": "light"
     },
     "output_type": "display_data"
    }
   ],
   "source": [
    "# fit the model, don't regularize for illustration purposes\n",
    "from sklearn import svm\n",
    "\n",
    "plt.scatter(X_train[:, 1], X_train[:, 2], c=y_train, s=30, cmap=plt.cm.Paired)\n",
    "\n",
    "# plot the decision function\n",
    "ax = plt.gca()\n",
    "xlim = ax.get_xlim()\n",
    "xfit = np.linspace(xlim[0], xlim[1], 100)\n",
    "\n",
    "plt.plot(xfit, slope * xfit + intercept, '-k')\n",
    "plt.plot(xfit, slope * xfit + intercept+3.75, '--k')\n",
    "plt.plot(xfit, slope * xfit + intercept-3.75, '--k')\n",
    "\n",
    "plt.show()"
   ]
  },
  {
   "cell_type": "code",
   "execution_count": 783,
   "metadata": {},
   "outputs": [
    {
     "data": {
      "image/png": "[encoded data removed]",
      "text/plain": [
       "<Figure size 432x288 with 1 Axes>"
      ]
     },
     "metadata": {
      "needs_background": "light"
     },
     "output_type": "display_data"
    }
   ],
   "source": [
    "# fit the model, don't regularize for illustration purposes\n",
    "from sklearn import svm\n",
    "\n",
    "# X, y = make_blobs(n_samples=40, centers=2, random_state=6)\n",
    "\n",
    "# clf = svm.SVC(kernel='linear', C=1000)\n",
    "# clf.fit(X, y)\n",
    "\n",
    "plt.scatter(X_train[:, 1], X_train[:, 2], c=y_train, s=30, cmap=plt.cm.Paired)\n",
    "\n",
    "# plot the decision function\n",
    "ax = plt.gca()\n",
    "xlim = ax.get_xlim()\n",
    "ylim = ax.get_ylim()\n",
    "\n",
    "# plt.plot(xlim, slope * xlim + intercept, '-k')\n",
    "\n",
    "# create grid to evaluate model\n",
    "xx = np.linspace(xlim[0], xlim[1], 30)\n",
    "yy = np.linspace(ylim[0], ylim[1], 30)\n",
    "YY, XX = np.meshgrid(yy, xx)\n",
    "xy = np.vstack([XX.ravel(), YY.ravel()]).T\n",
    "Z = decision_function(w, xy).reshape(XX.shape)\n",
    "\n",
    "# plot decision boundary and margins\n",
    "ax.contour(XX, YY, Z, colors='k', levels=[-1, 0, 1], alpha=0.5,\n",
    "           linestyles=['--', '-', '--'])\n",
    "# plot support vectors\n",
    "# ax.scatter(w[:, 0], w[:, 1], s=100,\n",
    "#            linewidth=1, facecolors='none', edgecolors='k')\n",
    "# ax.scatter(clf.support_vectors_[:, 0], clf.support_vectors_[:, 1], s=100,\n",
    "#            linewidth=1, facecolors='none', edgecolors='k')\n",
    "plt.show()"
   ]
  },
  {
   "cell_type": "code",
   "execution_count": 517,
   "metadata": {},
   "outputs": [
    {
     "data": {
      "text/plain": [
       "<matplotlib.collections.PathCollection at 0x7faeb993fc90>"
      ]
     },
     "execution_count": 517,
     "metadata": {},
     "output_type": "execute_result"
    },
    {
     "data": {
      "image/png": "[encoded data removed]",
      "text/plain": [
       "<Figure size 432x288 with 1 Axes>"
      ]
     },
     "metadata": {
      "needs_background": "light"
     },
     "output_type": "display_data"
    }
   ],
   "source": [
    "import numpy as np\n",
    "import matplotlib.pyplot as plt\n",
    "from sklearn import svm\n",
    "from sklearn.datasets import make_blobs\n",
    "\n",
    "\n",
    "# we create 40 separable points\n",
    "X, y = make_blobs(n_samples=100, n_features=2, centers=2, cluster_std=1.05, random_state=10)\n",
    "X, y = X[:80], y[:80]\n",
    "\n",
    "# fit the model, don't regularize for illustration purposes\n",
    "clf = svm.SVC(kernel='linear', C=1000)\n",
    "clf.fit(X, y)\n",
    "\n",
    "plt.scatter(X[:, 0], X[:, 1], c=y, s=30, cmap=plt.cm.Paired)\n",
    "\n",
    "# plot the decision function\n",
    "ax = plt.gca()\n",
    "xlim = ax.get_xlim()\n",
    "ylim = ax.get_ylim()\n",
    "\n",
    "# create grid to evaluate model\n",
    "xx = np.linspace(xlim[0], xlim[1], 30)\n",
    "yy = np.linspace(ylim[0], ylim[1], 30)\n",
    "YY, XX = np.meshgrid(yy, xx)\n",
    "xy = np.vstack([XX.ravel(), YY.ravel()]).T\n",
    "Z = clf.decision_function(xy).reshape(XX.shape)\n",
    "\n",
    "# plot decision boundary and margins\n",
    "ax.contour(XX, YY, Z, colors='k', levels=[-1, 0, 1], alpha=0.5,\n",
    "           linestyles=['--', '-', '--'])\n",
    "# plot support vectors\n",
    "ax.scatter(clf.support_vectors_[:, 0], clf.support_vectors_[:, 1], s=100,\n",
    "           linewidth=1, facecolors='none', edgecolors='k')"
   ]
  },
  {
   "cell_type": "code",
   "execution_count": 341,
   "metadata": {},
   "outputs": [],
   "source": [
    "def decision_function(weights, features):\n",
    "    if features.shape[1] == len(weights) - 1:\n",
    "        features = np.c_[np.ones((features.shape[0])), features]\n",
    "    assert len(weights) == len(features[0])\n",
    "    return np.dot(features, weights)"
   ]
  },
  {
   "cell_type": "code",
   "execution_count": 342,
   "metadata": {},
   "outputs": [],
   "source": [
    "def predict(weights, features):\n",
    "    if features.shape[1] == len(weights) - 1:\n",
    "        features = np.c_[np.ones((features.shape[0])), features]\n",
    "    assert len(weights) == len(features[0])\n",
    "    return np.sign(np.dot(features, weights))"
   ]
  },
  {
   "cell_type": "code",
   "execution_count": 571,
   "metadata": {},
   "outputs": [
    {
     "data": {
      "text/plain": [
       "0.0"
      ]
     },
     "execution_count": 571,
     "metadata": {},
     "output_type": "execute_result"
    }
   ],
   "source": [
    "np.sum(np.where(predict(w, X_test) != y_test, 1, 0)) / len(y_test)"
   ]
  },
  {
   "cell_type": "code",
   "execution_count": null,
   "metadata": {},
   "outputs": [],
   "source": [
    "y_test"
   ]
  },
  {
   "cell_type": "code",
   "execution_count": 324,
   "metadata": {},
   "outputs": [
    {
     "data": {
      "text/plain": [
       "array([[-0.02422568,  0.02422568]])"
      ]
     },
     "execution_count": 324,
     "metadata": {},
     "output_type": "execute_result"
    }
   ],
   "source": [
    "clf.dual_coef_"
   ]
  },
  {
   "cell_type": "code",
   "execution_count": null,
   "metadata": {},
   "outputs": [],
   "source": []
  }
 ],
 "metadata": {
  "kernelspec": {
   "display_name": "ml-hw2",
   "language": "python",
   "name": "ml-hw2"
  },
  "language_info": {
   "codemirror_mode": {
    "name": "ipython",
    "version": 3
   },
   "file_extension": ".py",
   "mimetype": "text/x-python",
   "name": "python",
   "nbconvert_exporter": "python",
   "pygments_lexer": "ipython3",
   "version": "3.7.5"
  }
 },
 "nbformat": 4,
 "nbformat_minor": 4
}
