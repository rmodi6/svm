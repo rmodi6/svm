{
 "cells": [
  {
   "cell_type": "code",
   "execution_count": 1,
   "metadata": {},
   "outputs": [],
   "source": [
    "import numpy as np\n",
    "import matplotlib.pyplot as plt\n",
    "from sklearn.datasets import make_blobs"
   ]
  },
  {
   "cell_type": "code",
   "execution_count": 2,
   "metadata": {},
   "outputs": [],
   "source": [
    "# Hyperparameters\n",
    "lambd = 0.1\n",
    "T = 500000 # max_epochs"
   ]
  },
  {
   "cell_type": "code",
   "execution_count": 3,
   "metadata": {},
   "outputs": [],
   "source": [
    "def train(X, y):\n",
    "    max_fval = np.max(X) # Maximum feature value\n",
    "    eta = 0.001 * max_fval # Initial learning rate\n",
    "    w = np.zeros(X.shape[1]) # Weight vector\n",
    "\n",
    "    # For each epoch\n",
    "    for t in range(1, T+1):\n",
    "        # Get a random index from features\n",
    "        i = np.random.choice(X_train.shape[0])\n",
    "        # Get the corresponding random feature and label\n",
    "        X_i, y_i = X[i], y[i]\n",
    "\n",
    "        # Compute hinge loss\n",
    "        v = 1 - (y_i * np.dot(X_i, w))\n",
    "\n",
    "        # Compute the partial gradient\n",
    "        if v <= 0:\n",
    "            dw = lambd * w\n",
    "        else:\n",
    "            dw = lambd * w - y_i * X_i\n",
    "\n",
    "        # Update the weight vector\n",
    "        w = w - eta * dw\n",
    "        \n",
    "        # Reduce the learning rate but don't reduce it too much\n",
    "        eta = eta / 10 if eta > 0.00001 else eta\n",
    "        \n",
    "        if t % (T/10) == 0:\n",
    "            print('#Epoch: {}/{}'.format(t, T))\n",
    "\n",
    "    # Return the weight vector of the final epoch\n",
    "    return w"
   ]
  },
  {
   "cell_type": "code",
   "execution_count": 4,
   "metadata": {},
   "outputs": [],
   "source": [
    "def decision_function(w, X):\n",
    "    # Add one to the X values to incorporate bias\n",
    "    if len(w) == len(X[0]) + 1:\n",
    "        X = np.c_[np.ones((X.shape[0])), X]\n",
    "    # Compute the output of the svm weight vector\n",
    "    return np.dot(X, w)"
   ]
  },
  {
   "cell_type": "code",
   "execution_count": 5,
   "metadata": {},
   "outputs": [],
   "source": [
    "def draw(w, X, y):\n",
    "    # Plot the features\n",
    "    plt.scatter(X[:, 1], X[:, 2], c=y, s=30, cmap=plt.cm.Paired)\n",
    "\n",
    "    # plot the decision function\n",
    "    ax = plt.gca()\n",
    "    xlim = ax.get_xlim()\n",
    "    ylim = ax.get_ylim()\n",
    "\n",
    "    # create grid to evaluate model\n",
    "    xx = np.linspace(xlim[0], xlim[1], 30)\n",
    "    yy = np.linspace(ylim[0], ylim[1], 30)\n",
    "    YY, XX = np.meshgrid(yy, xx)\n",
    "    xy = np.vstack([XX.ravel(), YY.ravel()]).T\n",
    "    Z = decision_function(w, xy).reshape(XX.shape)\n",
    "\n",
    "    # plot decision boundary and margins\n",
    "    ax.contour(XX, YY, Z, colors='k', levels=[-1, 0, 1], alpha=0.5,\n",
    "               linestyles=['--', '-', '--'])\n",
    "    plt.show()"
   ]
  },
  {
   "cell_type": "code",
   "execution_count": 6,
   "metadata": {},
   "outputs": [],
   "source": [
    "def test(w, X, y):\n",
    "    # Compute the number of misclassified points\n",
    "    error = np.sum(np.where(y != np.sign(decision_function(w, X)), 1, 0))\n",
    "    print('Total number of test data points: {}'.format(len(X)))\n",
    "    print('Number of misclassified points: {}'.format(error))"
   ]
  },
  {
   "cell_type": "code",
   "execution_count": 7,
   "metadata": {},
   "outputs": [],
   "source": [
    "# Generate sample data\n",
    "features, labels = make_blobs(n_samples=100, n_features=2, centers=2, cluster_std=1.05, random_state=10)\n",
    "\n",
    "# Add one to the feature values to incorporate bias\n",
    "features = np.c_[np.ones((features.shape[0])), features]\n",
    "# Change labels from (0,1) -> (-1,1)\n",
    "labels = np.where(labels == 1, 1, -1)"
   ]
  },
  {
   "cell_type": "code",
   "execution_count": 8,
   "metadata": {},
   "outputs": [],
   "source": [
    "# Train Test Split\n",
    "X_train, X_test, y_train, y_test = features[:80], features[-20:], labels[:80], labels[-20:]"
   ]
  },
  {
   "cell_type": "code",
   "execution_count": 9,
   "metadata": {},
   "outputs": [
    {
     "name": "stdout",
     "output_type": "stream",
     "text": [
      "#Epoch: 50000\n",
      "#Epoch: 100000\n",
      "#Epoch: 150000\n",
      "#Epoch: 200000\n",
      "#Epoch: 250000\n",
      "#Epoch: 300000\n",
      "#Epoch: 350000\n",
      "#Epoch: 400000\n",
      "#Epoch: 450000\n",
      "#Epoch: 500000\n"
     ]
    }
   ],
   "source": [
    "weights = train(X_train, y_train)"
   ]
  },
  {
   "cell_type": "code",
   "execution_count": 10,
   "metadata": {},
   "outputs": [
    {
     "data": {
      "image/png": "[encoded data removed]",
      "text/plain": [
       "<Figure size 432x288 with 1 Axes>"
      ]
     },
     "metadata": {
      "needs_background": "light"
     },
     "output_type": "display_data"
    }
   ],
   "source": [
    "draw(weights, X_train, y_train)"
   ]
  },
  {
   "cell_type": "code",
   "execution_count": 11,
   "metadata": {},
   "outputs": [
    {
     "name": "stdout",
     "output_type": "stream",
     "text": [
      "Total number of test data points: 20\n",
      "Number of misclassified points: 0\n"
     ]
    }
   ],
   "source": [
    "test(weights, X_test, y_test)"
   ]
  },
  {
   "cell_type": "code",
   "execution_count": null,
   "metadata": {},
   "outputs": [],
   "source": []
  },
  {
   "cell_type": "code",
   "execution_count": 72,
   "metadata": {},
   "outputs": [],
   "source": [
    "max_epochs = 500000\n",
    "lambd = 0.01\n",
    "max_fval = np.max(X_train)\n",
    "eta = 0.001 * max_fval\n",
    "w = np.zeros(X_train.shape[1])\n",
    "\n",
    "for epoch in range(max_epochs):\n",
    "    index = np.random.choice(X_train.shape[0])\n",
    "    X_i, y_i = X_train[index], y_train[index]\n",
    "\n",
    "    l = 1 - (y_i * np.dot(X_i, w))\n",
    "\n",
    "    if l <= 0:\n",
    "        dw = lambd * w\n",
    "    else:\n",
    "        dw = lambd * w - y_i * X_i\n",
    "\n",
    "    w = w - eta * dw\n",
    "    if eta > 0.00001:\n",
    "        eta = eta / 10"
   ]
  },
  {
   "cell_type": "code",
   "execution_count": 73,
   "metadata": {},
   "outputs": [
    {
     "data": {
      "text/plain": [
       "array([0.04983491, 0.11819474, 0.28002708])"
      ]
     },
     "execution_count": 73,
     "metadata": {},
     "output_type": "execute_result"
    }
   ],
   "source": [
    "w"
   ]
  },
  {
   "cell_type": "code",
   "execution_count": 74,
   "metadata": {},
   "outputs": [
    {
     "data": {
      "image/png": "[encoded data removed]",
      "text/plain": [
       "<Figure size 432x288 with 1 Axes>"
      ]
     },
     "metadata": {
      "needs_background": "light"
     },
     "output_type": "display_data"
    }
   ],
   "source": [
    "# fit the model, don't regularize for illustration purposes\n",
    "from sklearn import svm\n",
    "\n",
    "# X, y = make_blobs(n_samples=40, centers=2, random_state=6)\n",
    "\n",
    "# clf = svm.SVC(kernel='linear', C=1000)\n",
    "# clf.fit(X, y)\n",
    "\n",
    "plt.scatter(X_train[:, 1], X_train[:, 2], c=y_train, s=30, cmap=plt.cm.Paired)\n",
    "\n",
    "# plot the decision function\n",
    "ax = plt.gca()\n",
    "xlim = ax.get_xlim()\n",
    "ylim = ax.get_ylim()\n",
    "\n",
    "# plt.plot(xlim, slope * xlim + intercept, '-k')\n",
    "\n",
    "# create grid to evaluate model\n",
    "xx = np.linspace(xlim[0], xlim[1], 30)\n",
    "yy = np.linspace(ylim[0], ylim[1], 30)\n",
    "YY, XX = np.meshgrid(yy, xx)\n",
    "xy = np.vstack([XX.ravel(), YY.ravel()]).T\n",
    "Z = decision_function(w, xy).reshape(XX.shape)\n",
    "\n",
    "# plot decision boundary and margins\n",
    "ax.contour(XX, YY, Z, colors='k', levels=[-1, 0, 1], alpha=0.5,\n",
    "           linestyles=['--', '-', '--'])\n",
    "# plot support vectors\n",
    "# ax.scatter(X_train[[25, 67], 1], X_train[[25, 67], 2], s=100,\n",
    "#            linewidth=1, facecolors='none', edgecolors='k')\n",
    "# ax.scatter(clf.support_vectors_[:, 0], clf.support_vectors_[:, 1], s=100,\n",
    "#            linewidth=1, facecolors='none', edgecolors='k')\n",
    "plt.show()"
   ]
  },
  {
   "cell_type": "code",
   "execution_count": null,
   "metadata": {},
   "outputs": [],
   "source": [
    "m = X_train.shape[0]\n",
    "w = np.zeros(X_train.shape[1])\n",
    "\n",
    "loss = np.maximum(0, 1 - y_train * np.dot(X_train, w))\n",
    "hinge_loss = np.sum(loss) / m\n",
    "\n",
    "cost = lambd / 2 * np.dot(w, w) + hinge_loss"
   ]
  },
  {
   "cell_type": "code",
   "execution_count": 29,
   "metadata": {},
   "outputs": [],
   "source": [
    "max_epochs = 50000\n",
    "C = 1000\n",
    "# eta = 0.000001\n",
    "eta = 0.000001\n",
    "w = np.zeros(X_train.shape[1])\n",
    "\n",
    "for epoch in range(max_epochs):M\n",
    "    w = w - eta * dw\n",
    "#     if eta > 0.000001:\n",
    "#         eta = eta / 10"
   ]
  },
  {
   "cell_type": "code",
   "execution_count": 128,
   "metadata": {},
   "outputs": [
    {
     "data": {
      "text/plain": [
       "array([0.05153579, 0.12789867, 0.26025647])"
      ]
     },
     "execution_count": 128,
     "metadata": {},
     "output_type": "execute_result"
    }
   ],
   "source": [
    "w"
   ]
  },
  {
   "cell_type": "code",
   "execution_count": 129,
   "metadata": {},
   "outputs": [
    {
     "data": {
      "image/png": "[encoded data removed]",
      "text/plain": [
       "<Figure size 432x288 with 1 Axes>"
      ]
     },
     "metadata": {
      "needs_background": "light"
     },
     "output_type": "display_data"
    }
   ],
   "source": [
    "# fit the model, don't regularize for illustration purposes\n",
    "from sklearn import svm\n",
    "\n",
    "# X, y = make_blobs(n_samples=40, centers=2, random_state=6)\n",
    "\n",
    "# clf = svm.SVC(kernel='linear', C=1000)\n",
    "# clf.fit(X, y)\n",
    "\n",
    "plt.scatter(X_train[:, 1], X_train[:, 2], c=y_train, s=30, cmap=plt.cm.Paired)\n",
    "\n",
    "# plot the decision function\n",
    "ax = plt.gca()\n",
    "xlim = ax.get_xlim()\n",
    "ylim = ax.get_ylim()\n",
    "\n",
    "# plt.plot(xlim, slope * xlim + intercept, '-k')\n",
    "\n",
    "# create grid to evaluate model\n",
    "xx = np.linspace(xlim[0], xlim[1], 30)\n",
    "yy = np.linspace(ylim[0], ylim[1], 30)\n",
    "YY, XX = np.meshgrid(yy, xx)\n",
    "xy = np.vstack([XX.ravel(), YY.ravel()]).T\n",
    "Z = decision_function(w, xy).reshape(XX.shape)\n",
    "\n",
    "# plot decision boundary and margins\n",
    "ax.contour(XX, YY, Z, colors='k', levels=[-1, 0, 1], alpha=0.5,\n",
    "           linestyles=['--', '-', '--'])\n",
    "# plot support vectors\n",
    "# ax.scatter(X_train[[25, 67], 1], X_train[[25, 67], 2], s=100,\n",
    "#            linewidth=1, facecolors='none', edgecolors='k')\n",
    "# ax.scatter(clf.support_vectors_[:, 0], clf.support_vectors_[:, 1], s=100,\n",
    "#            linewidth=1, facecolors='none', edgecolors='k')\n",
    "plt.show()"
   ]
  },
  {
   "cell_type": "code",
   "execution_count": 608,
   "metadata": {},
   "outputs": [
    {
     "data": {
      "text/plain": [
       "7.940851713463681e-07"
      ]
     },
     "execution_count": 608,
     "metadata": {},
     "output_type": "execute_result"
    }
   ],
   "source": [
    "eta"
   ]
  },
  {
   "cell_type": "code",
   "execution_count": 576,
   "metadata": {},
   "outputs": [
    {
     "data": {
      "text/plain": [
       "array([0.05220855, 0.12735167, 0.26778337])"
      ]
     },
     "execution_count": 576,
     "metadata": {},
     "output_type": "execute_result"
    }
   ],
   "source": [
    "w"
   ]
  },
  {
   "cell_type": "code",
   "execution_count": 770,
   "metadata": {},
   "outputs": [
    {
     "name": "stderr",
     "output_type": "stream",
     "text": [
      "/home/rmodi/anaconda3/lib/python3.7/site-packages/ipykernel_launcher.py:8: RuntimeWarning: overflow encountered in true_divide\n",
      "  \n",
      "/home/rmodi/anaconda3/lib/python3.7/site-packages/ipykernel_launcher.py:8: RuntimeWarning: divide by zero encountered in true_divide\n",
      "  \n"
     ]
    }
   ],
   "source": [
    "max_epochs = 10000\n",
    "lambd = 0.0001\n",
    "eta = max_fval\n",
    "theta = [np.zeros(X_train.shape[1])]\n",
    "w = []\n",
    "\n",
    "for epoch in range(max_epochs):\n",
    "    w.append(np.divide(theta[-1], lambd * (epoch+1)))\n",
    "    index = np.random.choice(X_train.shape[0])\n",
    "    X_i, y_i = X_train[index], y_train[index]\n",
    "\n",
    "    if (y_i * np.dot(X_i, w[-1])) < 1:\n",
    "        theta.append(theta[-1] + eta*(y_i * X_i))\n",
    "    else:\n",
    "        theta.append(theta[-1])\n",
    "\n",
    "    eta /= 10"
   ]
  },
  {
   "cell_type": "code",
   "execution_count": 771,
   "metadata": {},
   "outputs": [],
   "source": [
    "w = w[-1]"
   ]
  },
  {
   "cell_type": "code",
   "execution_count": 772,
   "metadata": {},
   "outputs": [
    {
     "data": {
      "text/plain": [
       "array([-inf, -inf,  inf])"
      ]
     },
     "execution_count": 772,
     "metadata": {},
     "output_type": "execute_result"
    }
   ],
   "source": [
    "w"
   ]
  },
  {
   "cell_type": "code",
   "execution_count": 480,
   "metadata": {},
   "outputs": [],
   "source": [
    "slope = -(w[2]/w[1])/(w[2]/w[0])  \n",
    "intercept = -w[2]/w[1]"
   ]
  },
  {
   "cell_type": "code",
   "execution_count": 15,
   "metadata": {},
   "outputs": [],
   "source": [
    "slope = -(w[0]/w[2])/(w[0]/w[1])  \n",
    "intercept = -w[0]/w[2]"
   ]
  },
  {
   "cell_type": "code",
   "execution_count": 16,
   "metadata": {},
   "outputs": [
    {
     "data": {
      "image/png": "[encoded data removed]",
      "text/plain": [
       "<Figure size 432x288 with 1 Axes>"
      ]
     },
     "metadata": {
      "needs_background": "light"
     },
     "output_type": "display_data"
    }
   ],
   "source": [
    "# fit the model, don't regularize for illustration purposes\n",
    "from sklearn import svm\n",
    "\n",
    "plt.scatter(X_train[:, 1], X_train[:, 2], c=y_train, s=30, cmap=plt.cm.Paired)\n",
    "\n",
    "# plot the decision function\n",
    "ax = plt.gca()\n",
    "xlim = ax.get_xlim()\n",
    "xfit = np.linspace(xlim[0], xlim[1], 100)\n",
    "\n",
    "plt.plot(xfit, slope * xfit + intercept, '-k')\n",
    "plt.plot(xfit, slope * xfit + intercept+3.75, '--k')\n",
    "plt.plot(xfit, slope * xfit + intercept-3.75, '--k')\n",
    "\n",
    "plt.show()"
   ]
  },
  {
   "cell_type": "code",
   "execution_count": 815,
   "metadata": {},
   "outputs": [],
   "source": [
    "s1 = set([x[0] for x in np.argwhere(X_train[:,2] < 2.5)])"
   ]
  },
  {
   "cell_type": "code",
   "execution_count": 816,
   "metadata": {},
   "outputs": [],
   "source": [
    "s2 = set([x[0] for x in np.argwhere(X_train[:,2] > 0)])"
   ]
  },
  {
   "cell_type": "code",
   "execution_count": 817,
   "metadata": {},
   "outputs": [
    {
     "data": {
      "text/plain": [
       "{67}"
      ]
     },
     "execution_count": 817,
     "metadata": {},
     "output_type": "execute_result"
    }
   ],
   "source": [
    "s1.intersection(s2)"
   ]
  },
  {
   "cell_type": "code",
   "execution_count": 517,
   "metadata": {},
   "outputs": [
    {
     "data": {
      "text/plain": [
       "<matplotlib.collections.PathCollection at 0x7faeb993fc90>"
      ]
     },
     "execution_count": 517,
     "metadata": {},
     "output_type": "execute_result"
    },
    {
     "data": {
      "image/png": "[encoded data removed]",
      "text/plain": [
       "<Figure size 432x288 with 1 Axes>"
      ]
     },
     "metadata": {
      "needs_background": "light"
     },
     "output_type": "display_data"
    }
   ],
   "source": [
    "import numpy as np\n",
    "import matplotlib.pyplot as plt\n",
    "from sklearn import svm\n",
    "from sklearn.datasets import make_blobs\n",
    "\n",
    "\n",
    "# we create 40 separable points\n",
    "X, y = make_blobs(n_samples=100, n_features=2, centers=2, cluster_std=1.05, random_state=10)\n",
    "X, y = X[:80], y[:80]\n",
    "\n",
    "# fit the model, don't regularize for illustration purposes\n",
    "clf = svm.SVC(kernel='linear', C=1000)\n",
    "clf.fit(X, y)\n",
    "\n",
    "plt.scatter(X[:, 0], X[:, 1], c=y, s=30, cmap=plt.cm.Paired)\n",
    "\n",
    "# plot the decision function\n",
    "ax = plt.gca()\n",
    "xlim = ax.get_xlim()\n",
    "ylim = ax.get_ylim()\n",
    "\n",
    "# create grid to evaluate model\n",
    "xx = np.linspace(xlim[0], xlim[1], 30)\n",
    "yy = np.linspace(ylim[0], ylim[1], 30)\n",
    "YY, XX = np.meshgrid(yy, xx)\n",
    "xy = np.vstack([XX.ravel(), YY.ravel()]).T\n",
    "Z = clf.decision_function(xy).reshape(XX.shape)\n",
    "\n",
    "# plot decision boundary and margins\n",
    "ax.contour(XX, YY, Z, colors='k', levels=[-1, 0, 1], alpha=0.5,\n",
    "           linestyles=['--', '-', '--'])\n",
    "# plot support vectors\n",
    "ax.scatter(clf.support_vectors_[:, 0], clf.support_vectors_[:, 1], s=100,\n",
    "           linewidth=1, facecolors='none', edgecolors='k')"
   ]
  },
  {
   "cell_type": "code",
   "execution_count": 18,
   "metadata": {},
   "outputs": [],
   "source": [
    "def decision_function(weights, features):\n",
    "    if features.shape[1] == len(weights) - 1:\n",
    "        features = np.c_[np.ones((features.shape[0])), features]\n",
    "    assert len(weights) == len(features[0])\n",
    "    return np.dot(features, weights)"
   ]
  },
  {
   "cell_type": "code",
   "execution_count": 19,
   "metadata": {},
   "outputs": [],
   "source": [
    "def predict(weights, features):\n",
    "    if features.shape[1] == len(weights) - 1:\n",
    "        features = np.c_[np.ones((features.shape[0])), features]\n",
    "    assert len(weights) == len(features[0])\n",
    "    return np.sign(np.dot(features, weights))"
   ]
  },
  {
   "cell_type": "code",
   "execution_count": 20,
   "metadata": {},
   "outputs": [
    {
     "data": {
      "text/plain": [
       "0.0"
      ]
     },
     "execution_count": 20,
     "metadata": {},
     "output_type": "execute_result"
    }
   ],
   "source": [
    "np.sum(np.where(predict(w, X_test) != y_test, 1, 0)) / len(y_test)"
   ]
  },
  {
   "cell_type": "code",
   "execution_count": null,
   "metadata": {},
   "outputs": [],
   "source": [
    "y_test"
   ]
  },
  {
   "cell_type": "code",
   "execution_count": 324,
   "metadata": {},
   "outputs": [
    {
     "data": {
      "text/plain": [
       "array([[-0.02422568,  0.02422568]])"
      ]
     },
     "execution_count": 324,
     "metadata": {},
     "output_type": "execute_result"
    }
   ],
   "source": [
    "clf.dual_coef_"
   ]
  },
  {
   "cell_type": "code",
   "execution_count": null,
   "metadata": {},
   "outputs": [],
   "source": []
  }
 ],
 "metadata": {
  "kernelspec": {
   "display_name": "ml-hw2",
   "language": "python",
   "name": "ml-hw2"
  },
  "language_info": {
   "codemirror_mode": {
    "name": "ipython",
    "version": 3
   },
   "file_extension": ".py",
   "mimetype": "text/x-python",
   "name": "python",
   "nbconvert_exporter": "python",
   "pygments_lexer": "ipython3",
   "version": "3.7.5"
  }
 },
 "nbformat": 4,
 "nbformat_minor": 4
}
