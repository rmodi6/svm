{
 "cells": [
  {
   "cell_type": "code",
   "execution_count": 1,
   "metadata": {},
   "outputs": [],
   "source": [
    "import numpy as np\n",
    "import matplotlib.pyplot as plt\n",
    "from sklearn.datasets import make_blobs"
   ]
  },
  {
   "cell_type": "code",
   "execution_count": 2,
   "metadata": {},
   "outputs": [],
   "source": [
    "# Hyperparameters\n",
    "C = 10 # regularization strength\n",
    "T = 600000 # max_epochs"
   ]
  },
  {
   "cell_type": "code",
   "execution_count": 3,
   "metadata": {},
   "outputs": [],
   "source": [
    "def train(X, y):\n",
    "    eta = 0.0001 # Learning rate\n",
    "    w = np.zeros(X.shape[1]) # Weight vector\n",
    "    b = 0 # Bias\n",
    "\n",
    "    # For each epoch\n",
    "    for t in range(1, T+1):\n",
    "        # Get a random index from features\n",
    "        i = np.random.choice(X_train.shape[0])\n",
    "        # Get the corresponding random feature and label\n",
    "        X_i, y_i = X[i], y[i]\n",
    "\n",
    "        # Compute hinge loss\n",
    "        v = 1 - (y_i * (np.dot(X_i, w) + b))\n",
    "\n",
    "        # Compute the partial gradients\n",
    "        if v <= 0:\n",
    "            dw = w\n",
    "            db = 0\n",
    "        else:\n",
    "            dw = w - C * y_i * X_i\n",
    "            db = -C * y_i\n",
    "\n",
    "        # Update the weight vector and bias\n",
    "        w = w - eta * dw\n",
    "        b = b - eta * db\n",
    "        \n",
    "        if t % (T/10) == 0:\n",
    "            print('#Epoch: {}/{}'.format(t, T))\n",
    "\n",
    "    # Return the weight vector of the final epoch\n",
    "    return w, b"
   ]
  },
  {
   "cell_type": "code",
   "execution_count": 4,
   "metadata": {},
   "outputs": [],
   "source": [
    "def decision_function(w, b, X):\n",
    "    # Compute the output of the svm weight vector\n",
    "    return np.dot(X, w) + b"
   ]
  },
  {
   "cell_type": "code",
   "execution_count": 5,
   "metadata": {},
   "outputs": [],
   "source": [
    "def draw(w, b, X, y):\n",
    "    # Plot the features\n",
    "    plt.scatter(X[:, 0], X[:, 1], c=y, s=30, cmap=plt.cm.Accent)\n",
    "\n",
    "    # plot the decision function\n",
    "    ax = plt.gca()\n",
    "    xlim = ax.get_xlim()\n",
    "    ylim = ax.get_ylim()\n",
    "\n",
    "    # create grid to evaluate model\n",
    "    xx = np.linspace(xlim[0], xlim[1], 30)\n",
    "    yy = np.linspace(ylim[0], ylim[1], 30)\n",
    "    YY, XX = np.meshgrid(yy, xx)\n",
    "    xy = np.vstack([XX.ravel(), YY.ravel()]).T\n",
    "    Z = decision_function(w, b, xy).reshape(XX.shape)\n",
    "\n",
    "    # plot decision boundary and margins\n",
    "    ax.contour(XX, YY, Z, colors='k', levels=[-1, 0, 1], alpha=0.5,\n",
    "               linestyles=['--', '-', '--'])\n",
    "    ax.scatter(X[[11, 67], 0], X[[11, 67], 1], s=100,\n",
    "               linewidth=1, facecolors='none', edgecolors='k')\n",
    "    plt.show()"
   ]
  },
  {
   "cell_type": "code",
   "execution_count": 6,
   "metadata": {},
   "outputs": [],
   "source": [
    "def test(w, b, X, y):\n",
    "    # Compute the number of misclassified points\n",
    "    error = np.sum(np.where(y != np.sign(decision_function(w, b, X)), 1, 0))\n",
    "    print('Total number of test data points: {}'.format(len(X)))\n",
    "    print('Number of misclassified points: {}'.format(error))"
   ]
  },
  {
   "cell_type": "code",
   "execution_count": 7,
   "metadata": {},
   "outputs": [],
   "source": [
    "# Generate sample data\n",
    "features, labels = make_blobs(n_samples=100, n_features=2, centers=2, cluster_std=1.05, random_state=10)\n",
    "\n",
    "# Change labels from (0,1) -> (-1,1)\n",
    "labels = np.where(labels == 1, 1, -1)\n",
    "\n",
    "# Train Test Split\n",
    "X_train, X_test, y_train, y_test = features[:80], features[-20:], labels[:80], labels[-20:]"
   ]
  },
  {
   "cell_type": "code",
   "execution_count": 8,
   "metadata": {},
   "outputs": [
    {
     "name": "stdout",
     "output_type": "stream",
     "text": [
      "#Epoch: 60000/600000\n",
      "#Epoch: 120000/600000\n",
      "#Epoch: 180000/600000\n",
      "#Epoch: 240000/600000\n",
      "#Epoch: 300000/600000\n",
      "#Epoch: 360000/600000\n",
      "#Epoch: 420000/600000\n",
      "#Epoch: 480000/600000\n",
      "#Epoch: 540000/600000\n",
      "#Epoch: 600000/600000\n"
     ]
    }
   ],
   "source": [
    "weights, bias = train(X_train, y_train)"
   ]
  },
  {
   "cell_type": "code",
   "execution_count": 9,
   "metadata": {},
   "outputs": [
    {
     "data": {
      "image/png": "[encoded data removed]",
      "text/plain": [
       "<Figure size 432x288 with 1 Axes>"
      ]
     },
     "metadata": {
      "needs_background": "light"
     },
     "output_type": "display_data"
    }
   ],
   "source": [
    "draw(weights, bias, X_train, y_train)"
   ]
  },
  {
   "cell_type": "code",
   "execution_count": 10,
   "metadata": {},
   "outputs": [
    {
     "name": "stdout",
     "output_type": "stream",
     "text": [
      "Total number of test data points: 20\n",
      "Number of misclassified points: 0\n"
     ]
    }
   ],
   "source": [
    "test(weights, bias, X_test, y_test)"
   ]
  },
  {
   "cell_type": "code",
   "execution_count": null,
   "metadata": {},
   "outputs": [],
   "source": []
  }
 ],
 "metadata": {
  "kernelspec": {
   "display_name": "ml-hw2",
   "language": "python",
   "name": "ml-hw2"
  },
  "language_info": {
   "codemirror_mode": {
    "name": "ipython",
    "version": 3
   },
   "file_extension": ".py",
   "mimetype": "text/x-python",
   "name": "python",
   "nbconvert_exporter": "python",
   "pygments_lexer": "ipython3",
   "version": "3.7.5"
  }
 },
 "nbformat": 4,
 "nbformat_minor": 4
}
